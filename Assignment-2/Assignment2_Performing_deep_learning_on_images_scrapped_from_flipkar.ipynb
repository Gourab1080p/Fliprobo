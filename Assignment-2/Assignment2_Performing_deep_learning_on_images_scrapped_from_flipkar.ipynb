{
  "nbformat": 4,
  "nbformat_minor": 0,
  "metadata": {
    "colab": {
      "name": "project2-Performing deep learning on images scrapped from flipkar.ipynb",
      "provenance": [],
      "collapsed_sections": [],
      "toc_visible": true
    },
    "kernelspec": {
      "name": "python3",
      "display_name": "Python 3"
    }
  },
  "cells": [
    {
      "cell_type": "code",
      "metadata": {
        "id": "my0aZFZ0fCGq",
        "colab_type": "code",
        "colab": {
          "base_uri": "https://localhost:8080/",
          "height": 34
        },
        "outputId": "15aecd2c-95a3-4379-c876-0fd9a271f734"
      },
      "source": [
        "import numpy as np\n",
        "import pandas as pd\n",
        "import cv2\n",
        "import matplotlib.pyplot as plt\n",
        "import tensorflow as tf \n",
        "from tensorflow.python.keras import backend as k\n",
        "from keras.models import Sequential\n",
        "from keras.layers import Conv2D,MaxPooling2D\n",
        "from keras.layers import Flatten,Dense,Dropout,Activation\n",
        "from keras.preprocessing.image import ImageDataGenerator\n",
        "from keras.preprocessing import image"
      ],
      "execution_count": 1,
      "outputs": [
        {
          "output_type": "stream",
          "text": [
            "Using TensorFlow backend.\n"
          ],
          "name": "stderr"
        }
      ]
    },
    {
      "cell_type": "code",
      "metadata": {
        "id": "f2UC_SL2g49q",
        "colab_type": "code",
        "colab": {}
      },
      "source": [
        "img_width,img_height = 150,150"
      ],
      "execution_count": 2,
      "outputs": []
    },
    {
      "cell_type": "code",
      "metadata": {
        "id": "FgZwl8TohCfi",
        "colab_type": "code",
        "colab": {}
      },
      "source": [
        "train_data_dir = '/content/drive/My Drive/flipkart images/train'\n",
        "validation_data_dir = '/content/drive/My Drive/flipkart images/validation'\n",
        "nb_train_samples = 160\n",
        "nb_validation_samples = 40\n",
        "epochs =50\n",
        "batch_size =20"
      ],
      "execution_count": 7,
      "outputs": []
    },
    {
      "cell_type": "code",
      "metadata": {
        "id": "HJGQk8f7hR5K",
        "colab_type": "code",
        "colab": {}
      },
      "source": [
        "if k.image_data_format() == 'channels_first':\n",
        "    input_shape = (3, img_width, img_height)\n",
        "else:\n",
        "    input_shape = (img_width, img_height, 3)"
      ],
      "execution_count": 8,
      "outputs": []
    },
    {
      "cell_type": "code",
      "metadata": {
        "id": "j71g8p-thVpk",
        "colab_type": "code",
        "colab": {}
      },
      "source": [
        "train_datagen = ImageDataGenerator(\n",
        "     rescale=1. / 255,\n",
        "     shear_range=0.2,\n",
        "     zoom_range=0.2,\n",
        "     horizontal_flip=True)"
      ],
      "execution_count": 9,
      "outputs": []
    },
    {
      "cell_type": "code",
      "metadata": {
        "id": "k4aAmi32hZA2",
        "colab_type": "code",
        "colab": {}
      },
      "source": [
        "test_datagen=ImageDataGenerator(rescale=1. / 255)"
      ],
      "execution_count": 10,
      "outputs": []
    },
    {
      "cell_type": "code",
      "metadata": {
        "id": "CV5WxEnNhl2J",
        "colab_type": "code",
        "colab": {
          "base_uri": "https://localhost:8080/",
          "height": 34
        },
        "outputId": "4d5422e7-796b-499c-a8a6-39e769d195ce"
      },
      "source": [
        "train_generator=train_datagen.flow_from_directory(train_data_dir,target_size=(img_width,img_height),batch_size=batch_size,class_mode='binary')"
      ],
      "execution_count": 11,
      "outputs": [
        {
          "output_type": "stream",
          "text": [
            "Found 160 images belonging to 2 classes.\n"
          ],
          "name": "stdout"
        }
      ]
    },
    {
      "cell_type": "code",
      "metadata": {
        "id": "BXfYrEkEhx0M",
        "colab_type": "code",
        "colab": {
          "base_uri": "https://localhost:8080/",
          "height": 34
        },
        "outputId": "f73a9132-7305-4dab-cd86-7b6056ac7372"
      },
      "source": [
        "validation_generator=test_datagen.flow_from_directory(validation_data_dir,target_size=(img_width,img_height),batch_size=batch_size,class_mode='binary')"
      ],
      "execution_count": 12,
      "outputs": [
        {
          "output_type": "stream",
          "text": [
            "Found 40 images belonging to 2 classes.\n"
          ],
          "name": "stdout"
        }
      ]
    },
    {
      "cell_type": "code",
      "metadata": {
        "id": "RyMPzBabh447",
        "colab_type": "code",
        "colab": {
          "base_uri": "https://localhost:8080/",
          "height": 655
        },
        "outputId": "f5d88a3e-8b6b-42e8-80b8-cbc3d5d4aafa"
      },
      "source": [
        "model = Sequential()\n",
        "model.add(Conv2D(32, (3, 3), input_shape=input_shape))\n",
        "model.add(Activation('relu'))\n",
        "model.add(MaxPooling2D(pool_size=(2, 2)))\n",
        "\n",
        "\n",
        "\n",
        "model.add(Conv2D(32, (3, 3)))\n",
        "model.add(Activation('relu'))\n",
        "model.add(MaxPooling2D(pool_size=(2, 2)))\n",
        "\n",
        "model.add(Conv2D(64, (3, 3)))\n",
        "model.add(Activation('relu'))\n",
        "model.add(MaxPooling2D(pool_size=(2, 2)))\n",
        "\n",
        "model.add(Flatten())\n",
        "model.add(Dense(64))\n",
        "model.add(Activation('relu'))\n",
        "model.add(Dropout(0.5))\n",
        "model.add(Dense(1))\n",
        "model.add(Activation('sigmoid'))\n",
        "\n",
        "\n",
        "model.compile(loss='binary_crossentropy',optimizer='rmsprop',metrics=['accuracy'])\n",
        "model.summary()"
      ],
      "execution_count": 13,
      "outputs": [
        {
          "output_type": "stream",
          "text": [
            "Model: \"sequential_1\"\n",
            "_________________________________________________________________\n",
            "Layer (type)                 Output Shape              Param #   \n",
            "=================================================================\n",
            "conv2d_1 (Conv2D)            (None, 148, 148, 32)      896       \n",
            "_________________________________________________________________\n",
            "activation_1 (Activation)    (None, 148, 148, 32)      0         \n",
            "_________________________________________________________________\n",
            "max_pooling2d_1 (MaxPooling2 (None, 74, 74, 32)        0         \n",
            "_________________________________________________________________\n",
            "conv2d_2 (Conv2D)            (None, 72, 72, 32)        9248      \n",
            "_________________________________________________________________\n",
            "activation_2 (Activation)    (None, 72, 72, 32)        0         \n",
            "_________________________________________________________________\n",
            "max_pooling2d_2 (MaxPooling2 (None, 36, 36, 32)        0         \n",
            "_________________________________________________________________\n",
            "conv2d_3 (Conv2D)            (None, 34, 34, 64)        18496     \n",
            "_________________________________________________________________\n",
            "activation_3 (Activation)    (None, 34, 34, 64)        0         \n",
            "_________________________________________________________________\n",
            "max_pooling2d_3 (MaxPooling2 (None, 17, 17, 64)        0         \n",
            "_________________________________________________________________\n",
            "flatten_1 (Flatten)          (None, 18496)             0         \n",
            "_________________________________________________________________\n",
            "dense_1 (Dense)              (None, 64)                1183808   \n",
            "_________________________________________________________________\n",
            "activation_4 (Activation)    (None, 64)                0         \n",
            "_________________________________________________________________\n",
            "dropout_1 (Dropout)          (None, 64)                0         \n",
            "_________________________________________________________________\n",
            "dense_2 (Dense)              (None, 1)                 65        \n",
            "_________________________________________________________________\n",
            "activation_5 (Activation)    (None, 1)                 0         \n",
            "=================================================================\n",
            "Total params: 1,212,513\n",
            "Trainable params: 1,212,513\n",
            "Non-trainable params: 0\n",
            "_________________________________________________________________\n"
          ],
          "name": "stdout"
        }
      ]
    },
    {
      "cell_type": "code",
      "metadata": {
        "id": "hpZtrugLh-IG",
        "colab_type": "code",
        "colab": {
          "base_uri": "https://localhost:8080/",
          "height": 1000
        },
        "outputId": "2b0c1486-e5c5-4cea-d692-428142fc0d1d"
      },
      "source": [
        "model.fit_generator(train_generator,steps_per_epoch=nb_train_samples//batch_size,epochs=epochs,\n",
        "                    validation_data=validation_generator,validation_steps=nb_validation_samples//batch_size)"
      ],
      "execution_count": 15,
      "outputs": [
        {
          "output_type": "stream",
          "text": [
            "Epoch 1/50\n",
            "8/8 [==============================] - 72s 9s/step - loss: 1.6969 - accuracy: 0.5000 - val_loss: 0.7009 - val_accuracy: 0.5000\n",
            "Epoch 2/50\n",
            "8/8 [==============================] - 5s 686ms/step - loss: 0.6866 - accuracy: 0.5437 - val_loss: 0.6810 - val_accuracy: 0.5000\n",
            "Epoch 3/50\n",
            "8/8 [==============================] - 6s 692ms/step - loss: 0.7056 - accuracy: 0.4688 - val_loss: 0.7253 - val_accuracy: 0.5000\n",
            "Epoch 4/50\n",
            "8/8 [==============================] - 6s 689ms/step - loss: 0.6904 - accuracy: 0.5813 - val_loss: 0.6717 - val_accuracy: 0.7000\n",
            "Epoch 5/50\n",
            "8/8 [==============================] - 6s 703ms/step - loss: 0.6698 - accuracy: 0.6125 - val_loss: 0.6207 - val_accuracy: 0.7000\n",
            "Epoch 6/50\n",
            "8/8 [==============================] - 5s 684ms/step - loss: 0.6746 - accuracy: 0.5688 - val_loss: 0.5736 - val_accuracy: 0.5750\n",
            "Epoch 7/50\n",
            "8/8 [==============================] - 6s 695ms/step - loss: 0.6394 - accuracy: 0.6250 - val_loss: 0.5204 - val_accuracy: 0.6500\n",
            "Epoch 8/50\n",
            "8/8 [==============================] - 5s 681ms/step - loss: 0.6825 - accuracy: 0.6000 - val_loss: 0.5657 - val_accuracy: 0.8250\n",
            "Epoch 9/50\n",
            "8/8 [==============================] - 6s 709ms/step - loss: 0.6174 - accuracy: 0.6438 - val_loss: 0.5263 - val_accuracy: 0.7000\n",
            "Epoch 10/50\n",
            "8/8 [==============================] - 5s 679ms/step - loss: 0.5836 - accuracy: 0.6438 - val_loss: 0.5013 - val_accuracy: 0.7250\n",
            "Epoch 11/50\n",
            "8/8 [==============================] - 6s 708ms/step - loss: 0.6250 - accuracy: 0.6500 - val_loss: 0.3172 - val_accuracy: 0.8250\n",
            "Epoch 12/50\n",
            "8/8 [==============================] - 5s 677ms/step - loss: 0.5525 - accuracy: 0.6938 - val_loss: 0.5836 - val_accuracy: 0.6500\n",
            "Epoch 13/50\n",
            "8/8 [==============================] - 6s 716ms/step - loss: 0.5817 - accuracy: 0.7063 - val_loss: 0.5836 - val_accuracy: 0.7250\n",
            "Epoch 14/50\n",
            "8/8 [==============================] - 6s 722ms/step - loss: 0.5459 - accuracy: 0.7500 - val_loss: 0.5727 - val_accuracy: 0.7500\n",
            "Epoch 15/50\n",
            "8/8 [==============================] - 6s 723ms/step - loss: 0.4684 - accuracy: 0.7875 - val_loss: 0.4255 - val_accuracy: 0.7750\n",
            "Epoch 16/50\n",
            "8/8 [==============================] - 6s 716ms/step - loss: 0.4677 - accuracy: 0.7688 - val_loss: 0.3588 - val_accuracy: 0.8000\n",
            "Epoch 17/50\n",
            "8/8 [==============================] - 6s 709ms/step - loss: 0.5530 - accuracy: 0.8188 - val_loss: 0.5381 - val_accuracy: 0.8250\n",
            "Epoch 18/50\n",
            "8/8 [==============================] - 6s 692ms/step - loss: 0.3374 - accuracy: 0.8313 - val_loss: 0.4369 - val_accuracy: 0.7750\n",
            "Epoch 19/50\n",
            "8/8 [==============================] - 5s 684ms/step - loss: 0.4377 - accuracy: 0.7563 - val_loss: 0.3683 - val_accuracy: 0.8250\n",
            "Epoch 20/50\n",
            "8/8 [==============================] - 6s 703ms/step - loss: 0.4224 - accuracy: 0.8000 - val_loss: 0.3708 - val_accuracy: 0.7500\n",
            "Epoch 21/50\n",
            "8/8 [==============================] - 6s 699ms/step - loss: 0.3829 - accuracy: 0.8562 - val_loss: 0.5926 - val_accuracy: 0.8250\n",
            "Epoch 22/50\n",
            "8/8 [==============================] - 6s 705ms/step - loss: 0.3942 - accuracy: 0.8188 - val_loss: 0.2913 - val_accuracy: 0.8500\n",
            "Epoch 23/50\n",
            "8/8 [==============================] - 5s 682ms/step - loss: 0.3585 - accuracy: 0.8750 - val_loss: 0.2856 - val_accuracy: 0.9250\n",
            "Epoch 24/50\n",
            "8/8 [==============================] - 6s 704ms/step - loss: 0.4034 - accuracy: 0.8188 - val_loss: 0.2876 - val_accuracy: 0.8500\n",
            "Epoch 25/50\n",
            "8/8 [==============================] - 5s 687ms/step - loss: 0.3414 - accuracy: 0.8625 - val_loss: 0.3400 - val_accuracy: 0.8500\n",
            "Epoch 26/50\n",
            "8/8 [==============================] - 6s 692ms/step - loss: 0.3331 - accuracy: 0.8625 - val_loss: 0.3061 - val_accuracy: 0.9500\n",
            "Epoch 27/50\n",
            "8/8 [==============================] - 6s 691ms/step - loss: 0.2371 - accuracy: 0.9250 - val_loss: 0.4102 - val_accuracy: 0.8000\n",
            "Epoch 28/50\n",
            "8/8 [==============================] - 6s 698ms/step - loss: 0.2912 - accuracy: 0.8938 - val_loss: 0.5092 - val_accuracy: 0.8500\n",
            "Epoch 29/50\n",
            "8/8 [==============================] - 6s 693ms/step - loss: 0.2800 - accuracy: 0.8875 - val_loss: 0.2183 - val_accuracy: 0.9500\n",
            "Epoch 30/50\n",
            "8/8 [==============================] - 5s 684ms/step - loss: 0.2268 - accuracy: 0.9312 - val_loss: 0.1687 - val_accuracy: 0.9000\n",
            "Epoch 31/50\n",
            "8/8 [==============================] - 6s 694ms/step - loss: 0.2514 - accuracy: 0.9000 - val_loss: 0.0461 - val_accuracy: 0.9500\n",
            "Epoch 32/50\n",
            "8/8 [==============================] - 5s 682ms/step - loss: 0.2693 - accuracy: 0.8938 - val_loss: 0.0773 - val_accuracy: 0.9500\n",
            "Epoch 33/50\n",
            "8/8 [==============================] - 6s 706ms/step - loss: 0.2351 - accuracy: 0.9125 - val_loss: 0.1578 - val_accuracy: 0.9500\n",
            "Epoch 34/50\n",
            "8/8 [==============================] - 5s 687ms/step - loss: 0.2418 - accuracy: 0.9000 - val_loss: 0.1398 - val_accuracy: 0.9500\n",
            "Epoch 35/50\n",
            "8/8 [==============================] - 6s 711ms/step - loss: 0.1837 - accuracy: 0.9312 - val_loss: 0.3309 - val_accuracy: 0.9000\n",
            "Epoch 36/50\n",
            "8/8 [==============================] - 5s 679ms/step - loss: 0.2858 - accuracy: 0.9062 - val_loss: 0.1125 - val_accuracy: 0.9500\n",
            "Epoch 37/50\n",
            "8/8 [==============================] - 6s 694ms/step - loss: 0.2655 - accuracy: 0.9250 - val_loss: 0.2259 - val_accuracy: 0.9500\n",
            "Epoch 38/50\n",
            "8/8 [==============================] - 6s 688ms/step - loss: 0.1543 - accuracy: 0.9563 - val_loss: 0.1055 - val_accuracy: 0.9500\n",
            "Epoch 39/50\n",
            "8/8 [==============================] - 6s 702ms/step - loss: 0.1921 - accuracy: 0.9125 - val_loss: 0.0280 - val_accuracy: 0.9500\n",
            "Epoch 40/50\n",
            "8/8 [==============================] - 5s 683ms/step - loss: 0.2836 - accuracy: 0.9062 - val_loss: 0.0753 - val_accuracy: 0.9500\n",
            "Epoch 41/50\n",
            "8/8 [==============================] - 6s 690ms/step - loss: 0.1289 - accuracy: 0.9625 - val_loss: 0.1828 - val_accuracy: 0.9500\n",
            "Epoch 42/50\n",
            "8/8 [==============================] - 6s 696ms/step - loss: 0.2146 - accuracy: 0.8938 - val_loss: 0.2753 - val_accuracy: 0.9500\n",
            "Epoch 43/50\n",
            "8/8 [==============================] - 6s 690ms/step - loss: 0.1184 - accuracy: 0.9750 - val_loss: 0.2607 - val_accuracy: 0.9500\n",
            "Epoch 44/50\n",
            "8/8 [==============================] - 6s 696ms/step - loss: 0.1357 - accuracy: 0.9375 - val_loss: 0.0556 - val_accuracy: 0.9500\n",
            "Epoch 45/50\n",
            "8/8 [==============================] - 6s 697ms/step - loss: 0.1755 - accuracy: 0.9312 - val_loss: 0.2360 - val_accuracy: 0.9500\n",
            "Epoch 46/50\n",
            "8/8 [==============================] - 6s 694ms/step - loss: 0.0807 - accuracy: 0.9750 - val_loss: 0.1337 - val_accuracy: 0.9500\n",
            "Epoch 47/50\n",
            "8/8 [==============================] - 5s 687ms/step - loss: 0.2211 - accuracy: 0.9250 - val_loss: 0.5516 - val_accuracy: 0.8000\n",
            "Epoch 48/50\n",
            "8/8 [==============================] - 6s 691ms/step - loss: 0.3866 - accuracy: 0.9000 - val_loss: 0.1147 - val_accuracy: 0.9500\n",
            "Epoch 49/50\n",
            "8/8 [==============================] - 5s 682ms/step - loss: 0.0923 - accuracy: 0.9625 - val_loss: 0.0538 - val_accuracy: 1.0000\n",
            "Epoch 50/50\n",
            "8/8 [==============================] - 6s 689ms/step - loss: 0.1082 - accuracy: 0.9625 - val_loss: 0.1251 - val_accuracy: 0.9500\n"
          ],
          "name": "stdout"
        },
        {
          "output_type": "execute_result",
          "data": {
            "text/plain": [
              "<keras.callbacks.callbacks.History at 0x7f1574d80240>"
            ]
          },
          "metadata": {
            "tags": []
          },
          "execution_count": 15
        }
      ]
    },
    {
      "cell_type": "code",
      "metadata": {
        "id": "JSHuiCISiBQX",
        "colab_type": "code",
        "colab": {}
      },
      "source": [
        "model.save_weights('deeplearningonflipkart.h5')"
      ],
      "execution_count": 16,
      "outputs": []
    },
    {
      "cell_type": "code",
      "metadata": {
        "id": "sHV2m5bajkAn",
        "colab_type": "code",
        "colab": {}
      },
      "source": [
        "img_pred=image.load_img('/content/drive/My Drive/flipkart images/test/img_320 (2).jpeg', target_size=(150,150))"
      ],
      "execution_count": 17,
      "outputs": []
    },
    {
      "cell_type": "code",
      "metadata": {
        "id": "HOJZ0d-6kkNk",
        "colab_type": "code",
        "colab": {}
      },
      "source": [
        "img_pred=image.img_to_array(img_pred)"
      ],
      "execution_count": 18,
      "outputs": []
    },
    {
      "cell_type": "code",
      "metadata": {
        "id": "xiaVGen0knGy",
        "colab_type": "code",
        "colab": {}
      },
      "source": [
        "img_pred=np.expand_dims(img_pred,axis=0)"
      ],
      "execution_count": 19,
      "outputs": []
    },
    {
      "cell_type": "code",
      "metadata": {
        "id": "ILf_dNYgkpfK",
        "colab_type": "code",
        "colab": {
          "base_uri": "https://localhost:8080/",
          "height": 50
        },
        "outputId": "0de72826-5255-4d40-fab6-56f1f008fb3f"
      },
      "source": [
        "result=model.predict(img_pred)\n",
        "print(result)\n",
        "if result[0][0]==1:\n",
        "  prediction=\"jeans\"\n",
        "else:\n",
        "  prediction=\"Trouser\"\n",
        "print(prediction)\n"
      ],
      "execution_count": 27,
      "outputs": [
        {
          "output_type": "stream",
          "text": [
            "[[0.]]\n",
            "Trouser\n"
          ],
          "name": "stdout"
        }
      ]
    }
  ]
}