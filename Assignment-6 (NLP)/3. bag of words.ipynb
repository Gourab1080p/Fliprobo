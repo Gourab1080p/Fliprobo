{
 "cells": [
  {
   "cell_type": "code",
   "execution_count": 1,
   "metadata": {},
   "outputs": [
    {
     "name": "stdout",
     "output_type": "stream",
     "text": [
      "['adoption', 'after', 'and', 'another', 'around', 'as', 'at', 'back', 'backward', 'before', 'best', 'biological', 'but', 'clear', 'college', 'decided', 'decisions', 'drop', 'dropped', 'ever', 'first', 'for', 'graduate', 'in', 'it', 'later', 'looking', 'made', 'me', 'months', 'mother', 'my', 'of', 'one', 'or', 'out', 'pretty', 'put', 'quit', 'really', 'reed', 'scary', 'she', 'so', 'stayed', 'student', 'the', 'then', 'time', 'to', 'unwed', 'up', 'very', 'was', 'years', 'young']\n"
     ]
    }
   ],
   "source": [
    "from sklearn.feature_extraction.text import CountVectorizer \n",
    "\n",
    "from nltk.corpus import stopwords\n",
    "import pandas as pd\n",
    "\n",
    "\n",
    "text = [\"I dropped out of Reed College after the first months, but then stayed around as a drop-in for another months or so before I really quit\", \n",
    "          \"My biological mother was a young, unwed college graduate student, and she decided to put me up for adoption\", \n",
    "          \"It was pretty scary at the time, but looking back it was one of the best decisions I ever made\",\n",
    "          \"But it was very, very clear looking backward a years later\"]\n",
    " \n",
    "vect1 = CountVectorizer()\n",
    "\n",
    "vect1.fit_transform(text)\n",
    "\n",
    "print(sorted(vect1.vocabulary_))\n"
   ]
  },
  {
   "cell_type": "code",
   "execution_count": 2,
   "metadata": {},
   "outputs": [
    {
     "data": {
      "text/plain": [
       "CountVectorizer(analyzer='word', binary=False, decode_error='strict',\n",
       "                dtype=<class 'numpy.int64'>, encoding='utf-8', input='content',\n",
       "                lowercase=True, max_df=1.0, max_features=None, min_df=1,\n",
       "                ngram_range=(1, 1), preprocessor=None, stop_words=None,\n",
       "                strip_accents=None, token_pattern='(?u)\\\\b\\\\w\\\\w+\\\\b',\n",
       "                tokenizer=None, vocabulary=None)"
      ]
     },
     "execution_count": 2,
     "metadata": {},
     "output_type": "execute_result"
    }
   ],
   "source": [
    "c_vect = CountVectorizer()\n",
    "\n",
    "c_vect.fit(text)"
   ]
  },
  {
   "cell_type": "code",
   "execution_count": 3,
   "metadata": {},
   "outputs": [
    {
     "name": "stdout",
     "output_type": "stream",
     "text": [
      "Text Present at  [[0 0 0 0 0 0 0 0 0 0 0 0 0 0 0 0 0 0 0 0 0 0 0 1 0 0 0 0 0 0 0 1 2 0 0 0\n",
      "  0 0 0 0 0 0 0 0 0 0 0 0 0 0 0 0 0 0 0 0]\n",
      " [0 0 0 0 0 0 0 0 0 0 0 0 0 0 0 0 0 0 0 0 0 1 0 0 0 0 0 0 0 1 0 0 0 0 0 0\n",
      "  0 0 0 1 0 0 0 0 0 0 0 0 0 1 0 0 0 0 0 0]\n",
      " [0 0 0 0 0 0 0 0 0 0 0 0 1 0 0 0 0 0 0 0 0 0 0 1 0 0 0 0 0 0 0 0 0 0 0 0\n",
      "  0 0 0 0 0 0 0 0 0 0 0 0 0 0 0 0 0 1 0 0]\n",
      " [0 0 0 0 0 0 0 0 1 0 0 0 1 1 0 0 0 0 0 0 0 0 0 0 1 1 1 0 0 0 0 0 0 0 0 0\n",
      "  0 0 0 0 0 0 0 0 0 0 0 0 0 0 0 0 2 1 1 0]]\n",
      "original indexes ['adoption', 'after', 'and', 'another', 'around', 'as', 'at', 'back', 'backward', 'before', 'best', 'biological', 'but', 'clear', 'college', 'decided', 'decisions', 'drop', 'dropped', 'ever', 'first', 'for', 'graduate', 'in', 'it', 'later', 'looking', 'made', 'me', 'months', 'mother', 'my', 'of', 'one', 'or', 'out', 'pretty', 'put', 'quit', 'really', 'reed', 'scary', 'she', 'so', 'stayed', 'student', 'the', 'then', 'time', 'to', 'unwed', 'up', 'very', 'was', 'years', 'young']\n"
     ]
    }
   ],
   "source": [
    "text1 = [\"None of this had even a hope of any practical application in my life\",\n",
    "          \"I really didn’t know what to do for a few months\",\"I had been rejected, but I was still in love\",\n",
    "          \"But it was very, very clear looking backward a years later\"]\n",
    "\n",
    "c_new_vect = c_vect.transform(text1)\n",
    "\n",
    "print (\"Text Present at \",c_new_vect.toarray())\n",
    "\n",
    "print (\"original indexes\", vect1.get_feature_names() )"
   ]
  }
 ],
 "metadata": {
  "kernelspec": {
   "display_name": "Python 3",
   "language": "python",
   "name": "python3"
  },
  "language_info": {
   "codemirror_mode": {
    "name": "ipython",
    "version": 3
   },
   "file_extension": ".py",
   "mimetype": "text/x-python",
   "name": "python",
   "nbconvert_exporter": "python",
   "pygments_lexer": "ipython3",
   "version": "3.7.6"
  }
 },
 "nbformat": 4,
 "nbformat_minor": 4
}
