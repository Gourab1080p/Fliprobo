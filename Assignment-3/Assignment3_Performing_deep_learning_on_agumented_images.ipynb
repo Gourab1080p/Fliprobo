{
  "nbformat": 4,
  "nbformat_minor": 0,
  "metadata": {
    "colab": {
      "name": "Assignment3_Performing deep learning on agumented images.ipynb",
      "provenance": [],
      "collapsed_sections": []
    },
    "kernelspec": {
      "name": "python3",
      "display_name": "Python 3"
    }
  },
  "cells": [
    {
      "cell_type": "code",
      "metadata": {
        "id": "LeOrSwOr3lhi",
        "colab_type": "code",
        "colab": {
          "base_uri": "https://localhost:8080/",
          "height": 34
        },
        "outputId": "322f7e68-6b17-4966-f9f8-d25f3ea1ae1f"
      },
      "source": [
        "from google.colab import drive\n",
        "drive.mount('/content/drive')"
      ],
      "execution_count": 1,
      "outputs": [
        {
          "output_type": "stream",
          "text": [
            "Drive already mounted at /content/drive; to attempt to forcibly remount, call drive.mount(\"/content/drive\", force_remount=True).\n"
          ],
          "name": "stdout"
        }
      ]
    },
    {
      "cell_type": "code",
      "metadata": {
        "id": "my0aZFZ0fCGq",
        "colab_type": "code",
        "colab": {
          "base_uri": "https://localhost:8080/",
          "height": 34
        },
        "outputId": "422d127a-c391-407a-df4e-f179368f275a"
      },
      "source": [
        "import numpy as np\n",
        "import pandas as pd\n",
        "import cv2\n",
        "import matplotlib.pyplot as plt\n",
        "import tensorflow as tf \n",
        "from tensorflow.python.keras import backend as k\n",
        "from keras.models import Sequential\n",
        "from keras.layers import Conv2D,MaxPooling2D\n",
        "from keras.layers import Flatten,Dense,Dropout,Activation\n",
        "from keras.preprocessing.image import ImageDataGenerator\n",
        "from keras.preprocessing import image"
      ],
      "execution_count": 2,
      "outputs": [
        {
          "output_type": "stream",
          "text": [
            "Using TensorFlow backend.\n"
          ],
          "name": "stderr"
        }
      ]
    },
    {
      "cell_type": "code",
      "metadata": {
        "id": "f2UC_SL2g49q",
        "colab_type": "code",
        "colab": {}
      },
      "source": [
        "img_width,img_height = 150,150"
      ],
      "execution_count": 3,
      "outputs": []
    },
    {
      "cell_type": "code",
      "metadata": {
        "id": "FgZwl8TohCfi",
        "colab_type": "code",
        "colab": {}
      },
      "source": [
        "train_data_dir = '/content/drive/My Drive/filpkart agumented image/train'\n",
        "validation_data_dir = '/content/drive/My Drive/filpkart agumented image/validation'\n",
        "nb_train_samples = 960\n",
        "nb_validation_samples = 40\n",
        "epochs =50\n",
        "batch_size =20"
      ],
      "execution_count": 4,
      "outputs": []
    },
    {
      "cell_type": "code",
      "metadata": {
        "id": "HJGQk8f7hR5K",
        "colab_type": "code",
        "colab": {}
      },
      "source": [
        "if k.image_data_format() == 'channels_first':\n",
        "    input_shape = (3, img_width, img_height)\n",
        "else:\n",
        "    input_shape = (img_width, img_height, 3)"
      ],
      "execution_count": 5,
      "outputs": []
    },
    {
      "cell_type": "code",
      "metadata": {
        "id": "j71g8p-thVpk",
        "colab_type": "code",
        "colab": {}
      },
      "source": [
        "train_datagen = ImageDataGenerator(\n",
        "     rescale=1. / 255,\n",
        "     shear_range=0.2,\n",
        "     zoom_range=0.2)"
      ],
      "execution_count": 6,
      "outputs": []
    },
    {
      "cell_type": "code",
      "metadata": {
        "id": "k4aAmi32hZA2",
        "colab_type": "code",
        "colab": {}
      },
      "source": [
        "test_datagen=ImageDataGenerator(rescale=1. / 255)"
      ],
      "execution_count": 7,
      "outputs": []
    },
    {
      "cell_type": "code",
      "metadata": {
        "id": "CV5WxEnNhl2J",
        "colab_type": "code",
        "colab": {
          "base_uri": "https://localhost:8080/",
          "height": 34
        },
        "outputId": "d45e8d0c-efdc-44cc-9d54-022d608525ab"
      },
      "source": [
        "train_generator=train_datagen.flow_from_directory(train_data_dir,target_size=(img_width,img_height),batch_size=batch_size,class_mode='binary')"
      ],
      "execution_count": 8,
      "outputs": [
        {
          "output_type": "stream",
          "text": [
            "Found 960 images belonging to 2 classes.\n"
          ],
          "name": "stdout"
        }
      ]
    },
    {
      "cell_type": "code",
      "metadata": {
        "id": "BXfYrEkEhx0M",
        "colab_type": "code",
        "colab": {
          "base_uri": "https://localhost:8080/",
          "height": 34
        },
        "outputId": "6a034cd3-3359-4c2e-893d-eae28926b1a3"
      },
      "source": [
        "validation_generator=test_datagen.flow_from_directory(validation_data_dir,target_size=(img_width,img_height),batch_size=batch_size,class_mode='binary')"
      ],
      "execution_count": 9,
      "outputs": [
        {
          "output_type": "stream",
          "text": [
            "Found 40 images belonging to 2 classes.\n"
          ],
          "name": "stdout"
        }
      ]
    },
    {
      "cell_type": "code",
      "metadata": {
        "id": "RyMPzBabh447",
        "colab_type": "code",
        "colab": {
          "base_uri": "https://localhost:8080/",
          "height": 655
        },
        "outputId": "c37861cb-2432-4a1e-fa52-dc8955d5538d"
      },
      "source": [
        "model = Sequential()\n",
        "model.add(Conv2D(32, (3, 3), input_shape=input_shape))\n",
        "model.add(Activation('relu'))\n",
        "model.add(MaxPooling2D(pool_size=(2, 2)))\n",
        "\n",
        "\n",
        "\n",
        "model.add(Conv2D(32, (3, 3)))\n",
        "model.add(Activation('relu'))\n",
        "model.add(MaxPooling2D(pool_size=(2, 2)))\n",
        "\n",
        "model.add(Conv2D(64, (3, 3)))\n",
        "model.add(Activation('relu'))\n",
        "model.add(MaxPooling2D(pool_size=(2, 2)))\n",
        "\n",
        "model.add(Flatten())\n",
        "model.add(Dense(64))\n",
        "model.add(Activation('relu'))\n",
        "model.add(Dropout(0.5))\n",
        "model.add(Dense(1))\n",
        "model.add(Activation('sigmoid'))\n",
        "\n",
        "\n",
        "model.compile(loss='binary_crossentropy',optimizer='rmsprop',metrics=['accuracy'])\n",
        "model.summary()"
      ],
      "execution_count": 10,
      "outputs": [
        {
          "output_type": "stream",
          "text": [
            "Model: \"sequential_1\"\n",
            "_________________________________________________________________\n",
            "Layer (type)                 Output Shape              Param #   \n",
            "=================================================================\n",
            "conv2d_1 (Conv2D)            (None, 148, 148, 32)      896       \n",
            "_________________________________________________________________\n",
            "activation_1 (Activation)    (None, 148, 148, 32)      0         \n",
            "_________________________________________________________________\n",
            "max_pooling2d_1 (MaxPooling2 (None, 74, 74, 32)        0         \n",
            "_________________________________________________________________\n",
            "conv2d_2 (Conv2D)            (None, 72, 72, 32)        9248      \n",
            "_________________________________________________________________\n",
            "activation_2 (Activation)    (None, 72, 72, 32)        0         \n",
            "_________________________________________________________________\n",
            "max_pooling2d_2 (MaxPooling2 (None, 36, 36, 32)        0         \n",
            "_________________________________________________________________\n",
            "conv2d_3 (Conv2D)            (None, 34, 34, 64)        18496     \n",
            "_________________________________________________________________\n",
            "activation_3 (Activation)    (None, 34, 34, 64)        0         \n",
            "_________________________________________________________________\n",
            "max_pooling2d_3 (MaxPooling2 (None, 17, 17, 64)        0         \n",
            "_________________________________________________________________\n",
            "flatten_1 (Flatten)          (None, 18496)             0         \n",
            "_________________________________________________________________\n",
            "dense_1 (Dense)              (None, 64)                1183808   \n",
            "_________________________________________________________________\n",
            "activation_4 (Activation)    (None, 64)                0         \n",
            "_________________________________________________________________\n",
            "dropout_1 (Dropout)          (None, 64)                0         \n",
            "_________________________________________________________________\n",
            "dense_2 (Dense)              (None, 1)                 65        \n",
            "_________________________________________________________________\n",
            "activation_5 (Activation)    (None, 1)                 0         \n",
            "=================================================================\n",
            "Total params: 1,212,513\n",
            "Trainable params: 1,212,513\n",
            "Non-trainable params: 0\n",
            "_________________________________________________________________\n"
          ],
          "name": "stdout"
        }
      ]
    },
    {
      "cell_type": "code",
      "metadata": {
        "id": "hpZtrugLh-IG",
        "colab_type": "code",
        "colab": {
          "base_uri": "https://localhost:8080/",
          "height": 1000
        },
        "outputId": "10f83566-672a-4929-df35-cf4903a99e53"
      },
      "source": [
        "model.fit_generator(train_generator,steps_per_epoch=nb_train_samples//batch_size,epochs=epochs,\n",
        "                    validation_data=validation_generator,validation_steps=nb_validation_samples//batch_size)"
      ],
      "execution_count": 11,
      "outputs": [
        {
          "output_type": "stream",
          "text": [
            "Epoch 1/50\n",
            "48/48 [==============================] - 394s 8s/step - loss: 0.8354 - accuracy: 0.5448 - val_loss: 0.5928 - val_accuracy: 0.6000\n",
            "Epoch 2/50\n",
            "48/48 [==============================] - 31s 647ms/step - loss: 0.6056 - accuracy: 0.6625 - val_loss: 0.4803 - val_accuracy: 0.8000\n",
            "Epoch 3/50\n",
            "48/48 [==============================] - 31s 645ms/step - loss: 0.5512 - accuracy: 0.7385 - val_loss: 0.3317 - val_accuracy: 0.8500\n",
            "Epoch 4/50\n",
            "48/48 [==============================] - 31s 647ms/step - loss: 0.4574 - accuracy: 0.7917 - val_loss: 0.4189 - val_accuracy: 0.9500\n",
            "Epoch 5/50\n",
            "48/48 [==============================] - 31s 646ms/step - loss: 0.3665 - accuracy: 0.8406 - val_loss: 0.3439 - val_accuracy: 0.9500\n",
            "Epoch 6/50\n",
            "48/48 [==============================] - 31s 647ms/step - loss: 0.3551 - accuracy: 0.8635 - val_loss: 0.0599 - val_accuracy: 0.8500\n",
            "Epoch 7/50\n",
            "48/48 [==============================] - 31s 642ms/step - loss: 0.2790 - accuracy: 0.8896 - val_loss: 0.1496 - val_accuracy: 0.9500\n",
            "Epoch 8/50\n",
            "48/48 [==============================] - 31s 649ms/step - loss: 0.2599 - accuracy: 0.9073 - val_loss: 0.6530 - val_accuracy: 0.7750\n",
            "Epoch 9/50\n",
            "48/48 [==============================] - 31s 647ms/step - loss: 0.2546 - accuracy: 0.9021 - val_loss: 0.1847 - val_accuracy: 0.9500\n",
            "Epoch 10/50\n",
            "48/48 [==============================] - 31s 650ms/step - loss: 0.2607 - accuracy: 0.9083 - val_loss: 0.0608 - val_accuracy: 0.9500\n",
            "Epoch 11/50\n",
            "48/48 [==============================] - 31s 648ms/step - loss: 0.2189 - accuracy: 0.9292 - val_loss: 0.0258 - val_accuracy: 0.9500\n",
            "Epoch 12/50\n",
            "48/48 [==============================] - 31s 649ms/step - loss: 0.2068 - accuracy: 0.9229 - val_loss: 0.0136 - val_accuracy: 0.9500\n",
            "Epoch 13/50\n",
            "48/48 [==============================] - 31s 649ms/step - loss: 0.1618 - accuracy: 0.9406 - val_loss: 0.2796 - val_accuracy: 0.9500\n",
            "Epoch 14/50\n",
            "48/48 [==============================] - 31s 651ms/step - loss: 0.1494 - accuracy: 0.9406 - val_loss: 0.1082 - val_accuracy: 0.8500\n",
            "Epoch 15/50\n",
            "48/48 [==============================] - 31s 647ms/step - loss: 0.1512 - accuracy: 0.9542 - val_loss: 0.0739 - val_accuracy: 0.9500\n",
            "Epoch 16/50\n",
            "48/48 [==============================] - 31s 649ms/step - loss: 0.1249 - accuracy: 0.9646 - val_loss: 2.0364e-04 - val_accuracy: 0.9500\n",
            "Epoch 17/50\n",
            "48/48 [==============================] - 31s 645ms/step - loss: 0.1273 - accuracy: 0.9469 - val_loss: 0.0658 - val_accuracy: 1.0000\n",
            "Epoch 18/50\n",
            "48/48 [==============================] - 35s 738ms/step - loss: 0.1299 - accuracy: 0.9646 - val_loss: 0.0166 - val_accuracy: 1.0000\n",
            "Epoch 19/50\n",
            "48/48 [==============================] - 31s 646ms/step - loss: 0.1262 - accuracy: 0.9615 - val_loss: 0.0276 - val_accuracy: 1.0000\n",
            "Epoch 20/50\n",
            "48/48 [==============================] - 31s 655ms/step - loss: 0.1123 - accuracy: 0.9698 - val_loss: 0.0293 - val_accuracy: 1.0000\n",
            "Epoch 21/50\n",
            "48/48 [==============================] - 31s 645ms/step - loss: 0.0986 - accuracy: 0.9646 - val_loss: 8.7047e-04 - val_accuracy: 1.0000\n",
            "Epoch 22/50\n",
            "48/48 [==============================] - 31s 648ms/step - loss: 0.0974 - accuracy: 0.9698 - val_loss: 1.3497e-04 - val_accuracy: 1.0000\n",
            "Epoch 23/50\n",
            "48/48 [==============================] - 31s 646ms/step - loss: 0.0809 - accuracy: 0.9698 - val_loss: 0.0137 - val_accuracy: 1.0000\n",
            "Epoch 24/50\n",
            "48/48 [==============================] - 31s 648ms/step - loss: 0.0816 - accuracy: 0.9760 - val_loss: 0.0122 - val_accuracy: 1.0000\n",
            "Epoch 25/50\n",
            "48/48 [==============================] - 31s 646ms/step - loss: 0.0938 - accuracy: 0.9740 - val_loss: 0.0096 - val_accuracy: 1.0000\n",
            "Epoch 26/50\n",
            "48/48 [==============================] - 31s 645ms/step - loss: 0.1016 - accuracy: 0.9729 - val_loss: 0.0074 - val_accuracy: 1.0000\n",
            "Epoch 27/50\n",
            "48/48 [==============================] - 31s 642ms/step - loss: 0.0781 - accuracy: 0.9781 - val_loss: 3.6709e-04 - val_accuracy: 1.0000\n",
            "Epoch 28/50\n",
            "48/48 [==============================] - 31s 638ms/step - loss: 0.1081 - accuracy: 0.9708 - val_loss: 0.0052 - val_accuracy: 1.0000\n",
            "Epoch 29/50\n",
            "48/48 [==============================] - 30s 634ms/step - loss: 0.0623 - accuracy: 0.9792 - val_loss: 0.0097 - val_accuracy: 1.0000\n",
            "Epoch 30/50\n",
            "48/48 [==============================] - 31s 644ms/step - loss: 0.1058 - accuracy: 0.9646 - val_loss: 0.0897 - val_accuracy: 0.9500\n",
            "Epoch 31/50\n",
            "48/48 [==============================] - 31s 641ms/step - loss: 0.0447 - accuracy: 0.9865 - val_loss: 0.0032 - val_accuracy: 1.0000\n",
            "Epoch 32/50\n",
            "48/48 [==============================] - 31s 638ms/step - loss: 0.0833 - accuracy: 0.9740 - val_loss: 0.0043 - val_accuracy: 1.0000\n",
            "Epoch 33/50\n",
            "48/48 [==============================] - 31s 639ms/step - loss: 0.0638 - accuracy: 0.9698 - val_loss: 0.0023 - val_accuracy: 1.0000\n",
            "Epoch 34/50\n",
            "48/48 [==============================] - 31s 643ms/step - loss: 0.0556 - accuracy: 0.9854 - val_loss: 0.2939 - val_accuracy: 0.9000\n",
            "Epoch 35/50\n",
            "48/48 [==============================] - 31s 639ms/step - loss: 0.2790 - accuracy: 0.9719 - val_loss: 1.2020e-04 - val_accuracy: 1.0000\n",
            "Epoch 36/50\n",
            "48/48 [==============================] - 31s 643ms/step - loss: 0.0367 - accuracy: 0.9906 - val_loss: 9.2053e-04 - val_accuracy: 1.0000\n",
            "Epoch 37/50\n",
            "48/48 [==============================] - 31s 644ms/step - loss: 0.0673 - accuracy: 0.9823 - val_loss: 9.4044e-04 - val_accuracy: 1.0000\n",
            "Epoch 38/50\n",
            "48/48 [==============================] - 35s 735ms/step - loss: 0.0679 - accuracy: 0.9781 - val_loss: 8.0564e-06 - val_accuracy: 1.0000\n",
            "Epoch 39/50\n",
            "48/48 [==============================] - 31s 637ms/step - loss: 0.0491 - accuracy: 0.9844 - val_loss: 0.1900 - val_accuracy: 0.9000\n",
            "Epoch 40/50\n",
            "48/48 [==============================] - 31s 643ms/step - loss: 0.0641 - accuracy: 0.9802 - val_loss: 6.3621e-05 - val_accuracy: 1.0000\n",
            "Epoch 41/50\n",
            "48/48 [==============================] - 31s 643ms/step - loss: 0.0687 - accuracy: 0.9792 - val_loss: 8.2606e-04 - val_accuracy: 1.0000\n",
            "Epoch 42/50\n",
            "48/48 [==============================] - 31s 640ms/step - loss: 0.0505 - accuracy: 0.9802 - val_loss: 9.9862e-06 - val_accuracy: 1.0000\n",
            "Epoch 43/50\n",
            "48/48 [==============================] - 31s 640ms/step - loss: 0.0465 - accuracy: 0.9854 - val_loss: 7.3390e-04 - val_accuracy: 1.0000\n",
            "Epoch 44/50\n",
            "48/48 [==============================] - 31s 641ms/step - loss: 0.0847 - accuracy: 0.9729 - val_loss: 8.2713e-05 - val_accuracy: 1.0000\n",
            "Epoch 45/50\n",
            "48/48 [==============================] - 31s 638ms/step - loss: 0.0663 - accuracy: 0.9812 - val_loss: 1.0749e-04 - val_accuracy: 1.0000\n",
            "Epoch 46/50\n",
            "48/48 [==============================] - 31s 640ms/step - loss: 0.0357 - accuracy: 0.9896 - val_loss: 4.2801e-04 - val_accuracy: 1.0000\n",
            "Epoch 47/50\n",
            "48/48 [==============================] - 31s 642ms/step - loss: 0.0662 - accuracy: 0.9812 - val_loss: 9.9852e-07 - val_accuracy: 1.0000\n",
            "Epoch 48/50\n",
            "48/48 [==============================] - 31s 639ms/step - loss: 0.0345 - accuracy: 0.9823 - val_loss: 0.0020 - val_accuracy: 1.0000\n",
            "Epoch 49/50\n",
            "48/48 [==============================] - 31s 637ms/step - loss: 0.0553 - accuracy: 0.9833 - val_loss: 4.6181e-05 - val_accuracy: 1.0000\n",
            "Epoch 50/50\n",
            "48/48 [==============================] - 31s 645ms/step - loss: 0.0539 - accuracy: 0.9875 - val_loss: 5.4629e-04 - val_accuracy: 1.0000\n"
          ],
          "name": "stdout"
        },
        {
          "output_type": "execute_result",
          "data": {
            "text/plain": [
              "<keras.callbacks.callbacks.History at 0x7fbc622cada0>"
            ]
          },
          "metadata": {
            "tags": []
          },
          "execution_count": 11
        }
      ]
    },
    {
      "cell_type": "code",
      "metadata": {
        "id": "JSHuiCISiBQX",
        "colab_type": "code",
        "colab": {}
      },
      "source": [
        "model.save_weights('deeplearningonflipkart.h5')"
      ],
      "execution_count": 12,
      "outputs": []
    },
    {
      "cell_type": "code",
      "metadata": {
        "id": "sHV2m5bajkAn",
        "colab_type": "code",
        "colab": {}
      },
      "source": [
        "img_pred=image.load_img('/content/drive/My Drive/flipkart images/test/img_320 (2).jpeg', target_size=(150,150))"
      ],
      "execution_count": 13,
      "outputs": []
    },
    {
      "cell_type": "code",
      "metadata": {
        "id": "HOJZ0d-6kkNk",
        "colab_type": "code",
        "colab": {}
      },
      "source": [
        "img_pred=image.img_to_array(img_pred)"
      ],
      "execution_count": 14,
      "outputs": []
    },
    {
      "cell_type": "code",
      "metadata": {
        "id": "xiaVGen0knGy",
        "colab_type": "code",
        "colab": {}
      },
      "source": [
        "img_pred=np.expand_dims(img_pred,axis=0)"
      ],
      "execution_count": 15,
      "outputs": []
    },
    {
      "cell_type": "code",
      "metadata": {
        "id": "ILf_dNYgkpfK",
        "colab_type": "code",
        "colab": {
          "base_uri": "https://localhost:8080/",
          "height": 50
        },
        "outputId": "2326b817-1615-49fa-b8d4-26b8ea840d77"
      },
      "source": [
        "result=model.predict(img_pred)\n",
        "print(result)\n",
        "if result[0][0]==1:\n",
        "  prediction=\"jeans\"\n",
        "else:\n",
        "  prediction=\"Trouser\"\n",
        "print(prediction)\n"
      ],
      "execution_count": 16,
      "outputs": [
        {
          "output_type": "stream",
          "text": [
            "[[0.]]\n",
            "Trouser\n"
          ],
          "name": "stdout"
        }
      ]
    },
    {
      "cell_type": "code",
      "metadata": {
        "id": "FyaZaT5hs5Sz",
        "colab_type": "code",
        "colab": {}
      },
      "source": [
        ""
      ],
      "execution_count": 16,
      "outputs": []
    }
  ]
}