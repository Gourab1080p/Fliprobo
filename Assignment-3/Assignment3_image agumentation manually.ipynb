{
 "cells": [
  {
   "cell_type": "markdown",
   "metadata": {},
   "source": [
    "# Image Agumentation for Jeans"
   ]
  },
  {
   "cell_type": "code",
   "execution_count": 1,
   "metadata": {},
   "outputs": [],
   "source": [
    "#importing required libraries\n",
    "import cv2\n",
    "import numpy as np\n",
    "import os\n",
    "import glob"
   ]
  },
  {
   "cell_type": "code",
   "execution_count": 2,
   "metadata": {},
   "outputs": [],
   "source": [
    "#perfoming flipping operation on all training image\n",
    "inputFolder = 'jeans1/'\n",
    "os.mkdir('agumentflip')\n",
    "i=0\n",
    "for img in glob.glob(inputFolder + \"/*.jpeg\"):\n",
    "    image = cv2.imread(img)\n",
    "    imgRd = cv2.flip(image,1)\n",
    "    cv2.imwrite(\"agumentflip/image%o4i.jpeg\" %i, imgRd)\n",
    "    i +=1\n",
    "    cv2.imshow('Horizontal Flip',imgRd)\n",
    "    cv2.waitKey(30)\n",
    "cv2.destroyAllWindows()\n"
   ]
  },
  {
   "cell_type": "code",
   "execution_count": 3,
   "metadata": {},
   "outputs": [],
   "source": [
    "#perfoming rotation operation on all training image\n",
    "inputFolder = 'jeans1/'\n",
    "os.mkdir('agumentrotation')\n",
    "i=0\n",
    "for img in glob.glob(inputFolder + \"/*.jpeg\"):\n",
    "    image = cv2.imread(img)\n",
    "    height,width=image.shape[:2]\n",
    "    rotation_matrix=cv2.getRotationMatrix2D((width/2,height/2),20,1)\n",
    "    rotated_image=cv2.warpAffine(image,rotation_matrix,(width,height))\n",
    "    cv2.imwrite(\"agumentrotation/image%o4i.jpeg\" %i, rotated_image)\n",
    "    i +=1\n",
    "    cv2.imshow('Rotated Image',rotated_image)\n",
    "    cv2.waitKey(30)\n",
    "cv2.destroyAllWindows()\n"
   ]
  },
  {
   "cell_type": "code",
   "execution_count": 4,
   "metadata": {},
   "outputs": [],
   "source": [
    "#perfoming brightness operation on all training image\n",
    "inputFolder = 'jeans1/'\n",
    "os.mkdir('agumentbright1')\n",
    "i=0\n",
    "for img in glob.glob(inputFolder + \"/*.jpeg\"):\n",
    "    image = cv2.imread(img)\n",
    "    M=np.ones(image.shape,dtype=\"uint8\")*75\n",
    "    cv2.imshow(\"Original\",image)\n",
    "    added=cv2.add(image,M)\n",
    "    cv2.imwrite(\"agumentbright1/image%o4i.jpeg\" %i, added)\n",
    "    i +=1\n",
    "    cv2.imshow('Added',added)\n",
    "    cv2.waitKey(30)\n",
    "cv2.destroyAllWindows()"
   ]
  },
  {
   "cell_type": "code",
   "execution_count": 5,
   "metadata": {},
   "outputs": [],
   "source": [
    "#perfoming low brightness operation on all training image\n",
    "inputFolder = 'jeans1/'\n",
    "os.mkdir('agumentnotbright')\n",
    "i=0\n",
    "for img in glob.glob(inputFolder + \"/*.jpeg\"):\n",
    "    image = cv2.imread(img)\n",
    "    M=np.ones(image.shape,dtype=\"uint8\")*75\n",
    "    cv2.imshow(\"Original\",image)\n",
    "    subtracted=cv2.subtract(image,M)\n",
    "    cv2.imwrite(\"agumentnotbright/image%o4i.jpeg\" %i, subtracted)\n",
    "    i +=1\n",
    "    cv2.imshow('subtracted',subtracted)\n",
    "    cv2.waitKey(30)\n",
    "cv2.destroyAllWindows()"
   ]
  },
  {
   "cell_type": "code",
   "execution_count": 6,
   "metadata": {},
   "outputs": [],
   "source": [
    "#perfoming sharpening operation on all training image\n",
    "inputFolder = 'jeans1/'\n",
    "os.mkdir('agumentsharpen')\n",
    "i=0\n",
    "for img in glob.glob(inputFolder + \"/*.jpeg\"):\n",
    "    image = cv2.imread(img)\n",
    "    cv2.imshow('Original',image)\n",
    "    kernel_sharpening=np.array([[-1,-1,-1],\n",
    "                                [-1,10,-1],\n",
    "                                [-1,-1,-1]])\n",
    "    sharpened=cv2.filter2D(image,-1,kernel_sharpening)\n",
    "    cv2.imwrite(\"agumentsharpen/image%o4i.jpeg\" %i, sharpened)\n",
    "    i +=1\n",
    "    cv2.imshow('Image Sharpening',sharpened)\n",
    "    cv2.waitKey(30)\n",
    "cv2.destroyAllWindows()"
   ]
  },
  {
   "cell_type": "markdown",
   "metadata": {},
   "source": [
    "# Image Agumentation for Trousers"
   ]
  },
  {
   "cell_type": "code",
   "execution_count": 7,
   "metadata": {},
   "outputs": [],
   "source": [
    "#perfoming flipping operation on all training image\n",
    "inputFolder = 'Trouser'\n",
    "os.mkdir('agumentflipt')\n",
    "i=0\n",
    "for img in glob.glob(inputFolder + \"/*.jpeg\"):\n",
    "    image = cv2.imread(img)\n",
    "    imgRd = cv2.flip(image,1)\n",
    "    cv2.imwrite(\"agumentflipt/image%o4i.jpeg\" %i, imgRd)\n",
    "    i +=1\n",
    "    cv2.imshow('Horizontal Flip',imgRd)\n",
    "    cv2.waitKey(30)\n",
    "cv2.destroyAllWindows()"
   ]
  },
  {
   "cell_type": "code",
   "execution_count": 8,
   "metadata": {},
   "outputs": [],
   "source": [
    "#perfoming rotation operation on all training image\n",
    "inputFolder = 'Trouser'\n",
    "os.mkdir('agumentrotationt')\n",
    "i=0\n",
    "for img in glob.glob(inputFolder + \"/*.jpeg\"):\n",
    "    image = cv2.imread(img)\n",
    "    height,width=image.shape[:2]\n",
    "    rotation_matrix=cv2.getRotationMatrix2D((width/2,height/2),20,1)\n",
    "    rotated_image=cv2.warpAffine(image,rotation_matrix,(width,height))\n",
    "    cv2.imwrite(\"agumentrotationt/image%o4i.jpeg\" %i, rotated_image)\n",
    "    i +=1\n",
    "    cv2.imshow('Rotated Image',rotated_image)\n",
    "    cv2.waitKey(30)\n",
    "cv2.destroyAllWindows()\n"
   ]
  },
  {
   "cell_type": "code",
   "execution_count": 9,
   "metadata": {},
   "outputs": [],
   "source": [
    "#perfoming brightness operation on all training image\n",
    "inputFolder = 'Trouser'\n",
    "os.mkdir('agumentbrightt')\n",
    "i=0\n",
    "for img in glob.glob(inputFolder + \"/*.jpeg\"):\n",
    "    image = cv2.imread(img)\n",
    "    M=np.ones(image.shape,dtype=\"uint8\")*75\n",
    "    cv2.imshow(\"Original\",image)\n",
    "    added=cv2.add(image,M)\n",
    "    cv2.imwrite(\"agumentbrightt/image%o4i.jpeg\" %i, added)\n",
    "    i +=1\n",
    "    cv2.imshow('Added',added)\n",
    "    cv2.waitKey(30)\n",
    "cv2.destroyAllWindows()"
   ]
  },
  {
   "cell_type": "code",
   "execution_count": 10,
   "metadata": {},
   "outputs": [],
   "source": [
    "#perfoming low brightness operation on all training image\n",
    "inputFolder = 'Trouser'\n",
    "os.mkdir('agumentnotbrightt')\n",
    "i=0\n",
    "for img in glob.glob(inputFolder + \"/*.jpeg\"):\n",
    "    image = cv2.imread(img)\n",
    "    M=np.ones(image.shape,dtype=\"uint8\")*75\n",
    "    cv2.imshow(\"Original\",image)\n",
    "    subtracted=cv2.subtract(image,M)\n",
    "    cv2.imwrite(\"agumentnotbrightt/image%o4i.jpeg\" %i, subtracted)\n",
    "    i +=1\n",
    "    cv2.imshow('subtracted',subtracted)\n",
    "    cv2.waitKey(30)\n",
    "cv2.destroyAllWindows()"
   ]
  },
  {
   "cell_type": "code",
   "execution_count": 11,
   "metadata": {},
   "outputs": [],
   "source": [
    "#perfoming sharpening operation on all training image\n",
    "inputFolder = 'Trouser'\n",
    "os.mkdir('agumentsharpent')\n",
    "i=0\n",
    "for img in glob.glob(inputFolder + \"/*.jpeg\"):\n",
    "    image = cv2.imread(img)\n",
    "    cv2.imshow('Original',image)\n",
    "    kernel_sharpening=np.array([[-1,-1,-1],\n",
    "                                [-1,10,-1],\n",
    "                                [-1,-1,-1]])\n",
    "    sharpened=cv2.filter2D(image,-1,kernel_sharpening)\n",
    "    cv2.imwrite(\"agumentsharpent/image%o4i.jpeg\" %i, sharpened)\n",
    "    i +=1\n",
    "    cv2.imshow('Image Sharpening',sharpened)\n",
    "    cv2.waitKey(30)\n",
    "cv2.destroyAllWindows()"
   ]
  },
  {
   "cell_type": "code",
   "execution_count": null,
   "metadata": {},
   "outputs": [],
   "source": []
  }
 ],
 "metadata": {
  "kernelspec": {
   "display_name": "Python 3",
   "language": "python",
   "name": "python3"
  },
  "language_info": {
   "codemirror_mode": {
    "name": "ipython",
    "version": 3
   },
   "file_extension": ".py",
   "mimetype": "text/x-python",
   "name": "python",
   "nbconvert_exporter": "python",
   "pygments_lexer": "ipython3",
   "version": "3.7.6"
  }
 },
 "nbformat": 4,
 "nbformat_minor": 4
}
