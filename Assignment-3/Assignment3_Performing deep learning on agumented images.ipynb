{
  "nbformat": 4,
  "nbformat_minor": 0,
  "metadata": {
    "colab": {
      "name": "project3-Performing image agumentation on images scrapped from flipkar.ipynb",
      "provenance": [],
      "collapsed_sections": []
    },
    "kernelspec": {
      "name": "python3",
      "display_name": "Python 3"
    }
  },
  "cells": [
    {
      "cell_type": "code",
      "metadata": {
        "id": "my0aZFZ0fCGq",
        "colab_type": "code",
        "colab": {}
      },
      "source": [
        "import numpy as np\n",
        "import pandas as pd\n",
        "import cv2\n",
        "import matplotlib.pyplot as plt\n",
        "import tensorflow as tf \n",
        "from tensorflow.python.keras import backend as k\n",
        "from keras.models import Sequential\n",
        "from keras.layers import Conv2D,MaxPooling2D\n",
        "from keras.layers import Flatten,Dense,Dropout,Activation\n",
        "from keras.preprocessing.image import ImageDataGenerator\n",
        "from keras.preprocessing import image"
      ],
      "execution_count": 5,
      "outputs": []
    },
    {
      "cell_type": "code",
      "metadata": {
        "id": "f2UC_SL2g49q",
        "colab_type": "code",
        "colab": {}
      },
      "source": [
        "img_width,img_height = 150,150"
      ],
      "execution_count": 6,
      "outputs": []
    },
    {
      "cell_type": "code",
      "metadata": {
        "id": "FgZwl8TohCfi",
        "colab_type": "code",
        "colab": {}
      },
      "source": [
        "train_data_dir = '/content/drive/My Drive/filpkart agumented image/train'\n",
        "validation_data_dir = '/content/drive/My Drive/filpkart agumented image/validation'\n",
        "nb_train_samples = 800\n",
        "nb_validation_samples = 40\n",
        "epochs =50\n",
        "batch_size =20"
      ],
      "execution_count": 7,
      "outputs": []
    },
    {
      "cell_type": "code",
      "metadata": {
        "id": "HJGQk8f7hR5K",
        "colab_type": "code",
        "colab": {}
      },
      "source": [
        "if k.image_data_format() == 'channels_first':\n",
        "    input_shape = (3, img_width, img_height)\n",
        "else:\n",
        "    input_shape = (img_width, img_height, 3)"
      ],
      "execution_count": 8,
      "outputs": []
    },
    {
      "cell_type": "code",
      "metadata": {
        "id": "j71g8p-thVpk",
        "colab_type": "code",
        "colab": {}
      },
      "source": [
        "train_datagen = ImageDataGenerator(\n",
        "     rescale=1. / 255,\n",
        "     shear_range=0.2,\n",
        "     zoom_range=0.2,\n",
        "     horizontal_flip=True)"
      ],
      "execution_count": 10,
      "outputs": []
    },
    {
      "cell_type": "code",
      "metadata": {
        "id": "k4aAmi32hZA2",
        "colab_type": "code",
        "colab": {}
      },
      "source": [
        "test_datagen=ImageDataGenerator(rescale=1. / 255)"
      ],
      "execution_count": 11,
      "outputs": []
    },
    {
      "cell_type": "code",
      "metadata": {
        "id": "CV5WxEnNhl2J",
        "colab_type": "code",
        "colab": {
          "base_uri": "https://localhost:8080/",
          "height": 34
        },
        "outputId": "de39ca70-5c7e-4529-c257-397c9dde1b9c"
      },
      "source": [
        "train_generator=train_datagen.flow_from_directory(train_data_dir,target_size=(img_width,img_height),batch_size=batch_size,class_mode='binary')"
      ],
      "execution_count": 12,
      "outputs": [
        {
          "output_type": "stream",
          "text": [
            "Found 800 images belonging to 2 classes.\n"
          ],
          "name": "stdout"
        }
      ]
    },
    {
      "cell_type": "code",
      "metadata": {
        "id": "BXfYrEkEhx0M",
        "colab_type": "code",
        "colab": {
          "base_uri": "https://localhost:8080/",
          "height": 34
        },
        "outputId": "d87e2962-b0fc-484b-f6a5-ba8791e756e1"
      },
      "source": [
        "validation_generator=test_datagen.flow_from_directory(validation_data_dir,target_size=(img_width,img_height),batch_size=batch_size,class_mode='binary')"
      ],
      "execution_count": 13,
      "outputs": [
        {
          "output_type": "stream",
          "text": [
            "Found 40 images belonging to 2 classes.\n"
          ],
          "name": "stdout"
        }
      ]
    },
    {
      "cell_type": "code",
      "metadata": {
        "id": "RyMPzBabh447",
        "colab_type": "code",
        "colab": {
          "base_uri": "https://localhost:8080/",
          "height": 655
        },
        "outputId": "19c6d647-a714-47f1-b8ed-121f30cc583e"
      },
      "source": [
        "model = Sequential()\n",
        "model.add(Conv2D(32, (3, 3), input_shape=input_shape))\n",
        "model.add(Activation('relu'))\n",
        "model.add(MaxPooling2D(pool_size=(2, 2)))\n",
        "\n",
        "\n",
        "\n",
        "model.add(Conv2D(32, (3, 3)))\n",
        "model.add(Activation('relu'))\n",
        "model.add(MaxPooling2D(pool_size=(2, 2)))\n",
        "\n",
        "model.add(Conv2D(64, (3, 3)))\n",
        "model.add(Activation('relu'))\n",
        "model.add(MaxPooling2D(pool_size=(2, 2)))\n",
        "\n",
        "model.add(Flatten())\n",
        "model.add(Dense(64))\n",
        "model.add(Activation('relu'))\n",
        "model.add(Dropout(0.5))\n",
        "model.add(Dense(1))\n",
        "model.add(Activation('sigmoid'))\n",
        "\n",
        "\n",
        "model.compile(loss='binary_crossentropy',optimizer='rmsprop',metrics=['accuracy'])\n",
        "model.summary()"
      ],
      "execution_count": 14,
      "outputs": [
        {
          "output_type": "stream",
          "text": [
            "Model: \"sequential_1\"\n",
            "_________________________________________________________________\n",
            "Layer (type)                 Output Shape              Param #   \n",
            "=================================================================\n",
            "conv2d_1 (Conv2D)            (None, 148, 148, 32)      896       \n",
            "_________________________________________________________________\n",
            "activation_1 (Activation)    (None, 148, 148, 32)      0         \n",
            "_________________________________________________________________\n",
            "max_pooling2d_1 (MaxPooling2 (None, 74, 74, 32)        0         \n",
            "_________________________________________________________________\n",
            "conv2d_2 (Conv2D)            (None, 72, 72, 32)        9248      \n",
            "_________________________________________________________________\n",
            "activation_2 (Activation)    (None, 72, 72, 32)        0         \n",
            "_________________________________________________________________\n",
            "max_pooling2d_2 (MaxPooling2 (None, 36, 36, 32)        0         \n",
            "_________________________________________________________________\n",
            "conv2d_3 (Conv2D)            (None, 34, 34, 64)        18496     \n",
            "_________________________________________________________________\n",
            "activation_3 (Activation)    (None, 34, 34, 64)        0         \n",
            "_________________________________________________________________\n",
            "max_pooling2d_3 (MaxPooling2 (None, 17, 17, 64)        0         \n",
            "_________________________________________________________________\n",
            "flatten_1 (Flatten)          (None, 18496)             0         \n",
            "_________________________________________________________________\n",
            "dense_1 (Dense)              (None, 64)                1183808   \n",
            "_________________________________________________________________\n",
            "activation_4 (Activation)    (None, 64)                0         \n",
            "_________________________________________________________________\n",
            "dropout_1 (Dropout)          (None, 64)                0         \n",
            "_________________________________________________________________\n",
            "dense_2 (Dense)              (None, 1)                 65        \n",
            "_________________________________________________________________\n",
            "activation_5 (Activation)    (None, 1)                 0         \n",
            "=================================================================\n",
            "Total params: 1,212,513\n",
            "Trainable params: 1,212,513\n",
            "Non-trainable params: 0\n",
            "_________________________________________________________________\n"
          ],
          "name": "stdout"
        }
      ]
    },
    {
      "cell_type": "code",
      "metadata": {
        "id": "hpZtrugLh-IG",
        "colab_type": "code",
        "colab": {
          "base_uri": "https://localhost:8080/",
          "height": 1000
        },
        "outputId": "99d7e2fa-7e30-4af4-d26d-d0bda3540606"
      },
      "source": [
        "model.fit_generator(train_generator,steps_per_epoch=nb_train_samples//batch_size,epochs=epochs,\n",
        "                    validation_data=validation_generator,validation_steps=nb_validation_samples//batch_size)"
      ],
      "execution_count": 15,
      "outputs": [
        {
          "output_type": "stream",
          "text": [
            "Epoch 1/50\n",
            "40/40 [==============================] - 545s 14s/step - loss: 0.7565 - accuracy: 0.5738 - val_loss: 0.6521 - val_accuracy: 0.7500\n",
            "Epoch 2/50\n",
            "40/40 [==============================] - 26s 640ms/step - loss: 0.6447 - accuracy: 0.6662 - val_loss: 0.5525 - val_accuracy: 0.7500\n",
            "Epoch 3/50\n",
            "40/40 [==============================] - 26s 642ms/step - loss: 0.5752 - accuracy: 0.7125 - val_loss: 0.4383 - val_accuracy: 0.7250\n",
            "Epoch 4/50\n",
            "40/40 [==============================] - 25s 637ms/step - loss: 0.5008 - accuracy: 0.7538 - val_loss: 0.4501 - val_accuracy: 0.7750\n",
            "Epoch 5/50\n",
            "40/40 [==============================] - 26s 640ms/step - loss: 0.4548 - accuracy: 0.8037 - val_loss: 0.6099 - val_accuracy: 0.8500\n",
            "Epoch 6/50\n",
            "40/40 [==============================] - 26s 638ms/step - loss: 0.4204 - accuracy: 0.8112 - val_loss: 0.4410 - val_accuracy: 0.8500\n",
            "Epoch 7/50\n",
            "40/40 [==============================] - 26s 638ms/step - loss: 0.3605 - accuracy: 0.8487 - val_loss: 0.2806 - val_accuracy: 0.8500\n",
            "Epoch 8/50\n",
            "40/40 [==============================] - 25s 636ms/step - loss: 0.3252 - accuracy: 0.8675 - val_loss: 0.5034 - val_accuracy: 0.9500\n",
            "Epoch 9/50\n",
            "40/40 [==============================] - 26s 642ms/step - loss: 0.3214 - accuracy: 0.8687 - val_loss: 0.2674 - val_accuracy: 0.8000\n",
            "Epoch 10/50\n",
            "40/40 [==============================] - 25s 637ms/step - loss: 0.2940 - accuracy: 0.8800 - val_loss: 0.0693 - val_accuracy: 0.8500\n",
            "Epoch 11/50\n",
            "40/40 [==============================] - 26s 639ms/step - loss: 0.2871 - accuracy: 0.8938 - val_loss: 0.6312 - val_accuracy: 0.9500\n",
            "Epoch 12/50\n",
            "40/40 [==============================] - 26s 650ms/step - loss: 0.2482 - accuracy: 0.9112 - val_loss: 0.4272 - val_accuracy: 0.9250\n",
            "Epoch 13/50\n",
            "40/40 [==============================] - 25s 637ms/step - loss: 0.2710 - accuracy: 0.9038 - val_loss: 0.0647 - val_accuracy: 0.9500\n",
            "Epoch 14/50\n",
            "40/40 [==============================] - 26s 641ms/step - loss: 0.2501 - accuracy: 0.9062 - val_loss: 0.4385 - val_accuracy: 0.8500\n",
            "Epoch 15/50\n",
            "40/40 [==============================] - 26s 649ms/step - loss: 0.2293 - accuracy: 0.9175 - val_loss: 0.1832 - val_accuracy: 0.9500\n",
            "Epoch 16/50\n",
            "40/40 [==============================] - 26s 638ms/step - loss: 0.2062 - accuracy: 0.9275 - val_loss: 0.3273 - val_accuracy: 0.9000\n",
            "Epoch 17/50\n",
            "40/40 [==============================] - 26s 638ms/step - loss: 0.2105 - accuracy: 0.9237 - val_loss: 0.0282 - val_accuracy: 0.9500\n",
            "Epoch 18/50\n",
            "40/40 [==============================] - 26s 642ms/step - loss: 0.1801 - accuracy: 0.9325 - val_loss: 0.0155 - val_accuracy: 0.9500\n",
            "Epoch 19/50\n",
            "40/40 [==============================] - 26s 639ms/step - loss: 0.1658 - accuracy: 0.9438 - val_loss: 0.2193 - val_accuracy: 0.9500\n",
            "Epoch 20/50\n",
            "40/40 [==============================] - 25s 637ms/step - loss: 0.1736 - accuracy: 0.9438 - val_loss: 0.6467 - val_accuracy: 0.9000\n",
            "Epoch 21/50\n",
            "40/40 [==============================] - 26s 643ms/step - loss: 0.1985 - accuracy: 0.9287 - val_loss: 0.0847 - val_accuracy: 0.9000\n",
            "Epoch 22/50\n",
            "40/40 [==============================] - 25s 636ms/step - loss: 0.1462 - accuracy: 0.9400 - val_loss: 0.3616 - val_accuracy: 0.8500\n",
            "Epoch 23/50\n",
            "40/40 [==============================] - 26s 640ms/step - loss: 0.1572 - accuracy: 0.9488 - val_loss: 0.1716 - val_accuracy: 0.9500\n",
            "Epoch 24/50\n",
            "40/40 [==============================] - 26s 640ms/step - loss: 0.1525 - accuracy: 0.9450 - val_loss: 0.0668 - val_accuracy: 0.9500\n",
            "Epoch 25/50\n",
            "40/40 [==============================] - 26s 638ms/step - loss: 0.1436 - accuracy: 0.9488 - val_loss: 0.1119 - val_accuracy: 0.9500\n",
            "Epoch 26/50\n",
            "40/40 [==============================] - 26s 638ms/step - loss: 0.1756 - accuracy: 0.9400 - val_loss: 0.0502 - val_accuracy: 0.9500\n",
            "Epoch 27/50\n",
            "40/40 [==============================] - 26s 645ms/step - loss: 0.1121 - accuracy: 0.9638 - val_loss: 0.0038 - val_accuracy: 0.9500\n",
            "Epoch 28/50\n",
            "40/40 [==============================] - 25s 637ms/step - loss: 0.1392 - accuracy: 0.9513 - val_loss: 0.0013 - val_accuracy: 1.0000\n",
            "Epoch 29/50\n",
            "40/40 [==============================] - 26s 640ms/step - loss: 0.1299 - accuracy: 0.9513 - val_loss: 0.4513 - val_accuracy: 0.9500\n",
            "Epoch 30/50\n",
            "40/40 [==============================] - 26s 639ms/step - loss: 0.1157 - accuracy: 0.9538 - val_loss: 0.1021 - val_accuracy: 0.9500\n",
            "Epoch 31/50\n",
            "40/40 [==============================] - 26s 639ms/step - loss: 0.1331 - accuracy: 0.9625 - val_loss: 0.0477 - val_accuracy: 0.9500\n",
            "Epoch 32/50\n",
            "40/40 [==============================] - 26s 640ms/step - loss: 0.0692 - accuracy: 0.9725 - val_loss: 0.1161 - val_accuracy: 0.9500\n",
            "Epoch 33/50\n",
            "40/40 [==============================] - 26s 641ms/step - loss: 0.1091 - accuracy: 0.9638 - val_loss: 0.1721 - val_accuracy: 0.9500\n",
            "Epoch 34/50\n",
            "40/40 [==============================] - 26s 641ms/step - loss: 0.1354 - accuracy: 0.9588 - val_loss: 0.1721 - val_accuracy: 0.9500\n",
            "Epoch 35/50\n",
            "40/40 [==============================] - 25s 635ms/step - loss: 0.1244 - accuracy: 0.9575 - val_loss: 6.0218e-04 - val_accuracy: 0.9500\n",
            "Epoch 36/50\n",
            "40/40 [==============================] - 26s 645ms/step - loss: 0.0880 - accuracy: 0.9663 - val_loss: 0.0832 - val_accuracy: 0.9500\n",
            "Epoch 37/50\n",
            "40/40 [==============================] - 26s 646ms/step - loss: 0.0880 - accuracy: 0.9613 - val_loss: 0.0398 - val_accuracy: 0.9500\n",
            "Epoch 38/50\n",
            "40/40 [==============================] - 26s 640ms/step - loss: 0.1292 - accuracy: 0.9613 - val_loss: 0.0216 - val_accuracy: 1.0000\n",
            "Epoch 39/50\n",
            "40/40 [==============================] - 26s 639ms/step - loss: 0.0895 - accuracy: 0.9700 - val_loss: 0.0140 - val_accuracy: 1.0000\n",
            "Epoch 40/50\n",
            "40/40 [==============================] - 26s 639ms/step - loss: 0.0891 - accuracy: 0.9688 - val_loss: 2.3431e-05 - val_accuracy: 0.9500\n",
            "Epoch 41/50\n",
            "40/40 [==============================] - 26s 644ms/step - loss: 0.0824 - accuracy: 0.9737 - val_loss: 0.0395 - val_accuracy: 0.9500\n",
            "Epoch 42/50\n",
            "40/40 [==============================] - 26s 640ms/step - loss: 0.0969 - accuracy: 0.9700 - val_loss: 0.1221 - val_accuracy: 0.9500\n",
            "Epoch 43/50\n",
            "40/40 [==============================] - 25s 635ms/step - loss: 0.0966 - accuracy: 0.9688 - val_loss: 0.0482 - val_accuracy: 0.9500\n",
            "Epoch 44/50\n",
            "40/40 [==============================] - 26s 642ms/step - loss: 0.0782 - accuracy: 0.9650 - val_loss: 0.0148 - val_accuracy: 1.0000\n",
            "Epoch 45/50\n",
            "40/40 [==============================] - 26s 642ms/step - loss: 0.0670 - accuracy: 0.9750 - val_loss: 2.7739e-04 - val_accuracy: 1.0000\n",
            "Epoch 46/50\n",
            "40/40 [==============================] - 25s 637ms/step - loss: 0.0925 - accuracy: 0.9700 - val_loss: 0.0648 - val_accuracy: 0.9500\n",
            "Epoch 47/50\n",
            "40/40 [==============================] - 26s 640ms/step - loss: 0.0720 - accuracy: 0.9737 - val_loss: 0.0061 - val_accuracy: 1.0000\n",
            "Epoch 48/50\n",
            "40/40 [==============================] - 26s 639ms/step - loss: 0.0526 - accuracy: 0.9812 - val_loss: 5.6130e-05 - val_accuracy: 1.0000\n",
            "Epoch 49/50\n",
            "40/40 [==============================] - 26s 661ms/step - loss: 0.0971 - accuracy: 0.9675 - val_loss: 0.0399 - val_accuracy: 1.0000\n",
            "Epoch 50/50\n",
            "40/40 [==============================] - 26s 645ms/step - loss: 0.0633 - accuracy: 0.9762 - val_loss: 0.0016 - val_accuracy: 1.0000\n"
          ],
          "name": "stdout"
        },
        {
          "output_type": "execute_result",
          "data": {
            "text/plain": [
              "<keras.callbacks.callbacks.History at 0x7f542860cb38>"
            ]
          },
          "metadata": {
            "tags": []
          },
          "execution_count": 15
        }
      ]
    },
    {
      "cell_type": "code",
      "metadata": {
        "id": "JSHuiCISiBQX",
        "colab_type": "code",
        "colab": {}
      },
      "source": [
        "model.save_weights('deeplearningonflipkart.h5')"
      ],
      "execution_count": 16,
      "outputs": []
    },
    {
      "cell_type": "code",
      "metadata": {
        "id": "sHV2m5bajkAn",
        "colab_type": "code",
        "colab": {}
      },
      "source": [
        "img_pred=image.load_img('/content/drive/My Drive/flipkart images/test/img_320 (2).jpeg', target_size=(150,150))"
      ],
      "execution_count": 17,
      "outputs": []
    },
    {
      "cell_type": "code",
      "metadata": {
        "id": "HOJZ0d-6kkNk",
        "colab_type": "code",
        "colab": {}
      },
      "source": [
        "img_pred=image.img_to_array(img_pred)"
      ],
      "execution_count": 18,
      "outputs": []
    },
    {
      "cell_type": "code",
      "metadata": {
        "id": "xiaVGen0knGy",
        "colab_type": "code",
        "colab": {}
      },
      "source": [
        "img_pred=np.expand_dims(img_pred,axis=0)"
      ],
      "execution_count": 19,
      "outputs": []
    },
    {
      "cell_type": "code",
      "metadata": {
        "id": "ILf_dNYgkpfK",
        "colab_type": "code",
        "colab": {
          "base_uri": "https://localhost:8080/",
          "height": 50
        },
        "outputId": "42baf0b9-b7f9-4220-b8cd-4bfb4c6e1302"
      },
      "source": [
        "result=model.predict(img_pred)\n",
        "print(result)\n",
        "if result[0][0]==1:\n",
        "  prediction=\"jeans\"\n",
        "else:\n",
        "  prediction=\"Trouser\"\n",
        "print(prediction)\n"
      ],
      "execution_count": 20,
      "outputs": [
        {
          "output_type": "stream",
          "text": [
            "[[0.]]\n",
            "Trouser\n"
          ],
          "name": "stdout"
        }
      ]
    },
    {
      "cell_type": "code",
      "metadata": {
        "id": "FyaZaT5hs5Sz",
        "colab_type": "code",
        "colab": {}
      },
      "source": [
        ""
      ],
      "execution_count": null,
      "outputs": []
    }
  ]
}