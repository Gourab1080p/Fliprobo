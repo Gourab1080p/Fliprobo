{
  "nbformat": 4,
  "nbformat_minor": 0,
  "metadata": {
    "colab": {
      "name": "Project_1 car vs truck deeplearning.ipynb",
      "provenance": [],
      "collapsed_sections": []
    },
    "kernelspec": {
      "name": "python3",
      "display_name": "Python 3"
    }
  },
  "cells": [
    {
      "cell_type": "code",
      "metadata": {
        "id": "aRclGnG3FnhH",
        "colab_type": "code",
        "colab": {}
      },
      "source": [
        "from keras.models import Sequential\n",
        "from keras.layers import Convolution2D\n",
        "from keras.layers import MaxPooling2D\n",
        "from keras.layers import Flatten\n",
        "from keras.layers import Dense"
      ],
      "execution_count": 8,
      "outputs": []
    },
    {
      "cell_type": "code",
      "metadata": {
        "id": "GQ4WIBfWF4jA",
        "colab_type": "code",
        "colab": {
          "base_uri": "https://localhost:8080/",
          "height": 138
        },
        "outputId": "0d176b0f-63c5-4f3a-c399-b0e5db4e4770"
      },
      "source": [
        "classifier = Sequential()\n",
        "\n",
        "# Step 1 - Convolution\n",
        "classifier.add(Convolution2D(32, 3, 3, input_shape = (64, 64, 3), activation = 'relu'))\n",
        "\n",
        "# Step 2 - Pooling\n",
        "classifier.add(MaxPooling2D(pool_size = (2, 2)))\n",
        "\n",
        "# Adding a second convolutional layer\n",
        "classifier.add(Convolution2D(32, 3, 3, activation = 'relu'))\n",
        "classifier.add(MaxPooling2D(pool_size = (2, 2)))\n",
        "\n",
        "# Step 3 - Flattening\n",
        "classifier.add(Flatten())\n",
        "\n",
        "# Step 4 - Full connection\n",
        "classifier.add(Dense(output_dim = 128, activation = 'relu'))\n",
        "classifier.add(Dense(output_dim = 1, activation = 'sigmoid'))\n",
        "\n",
        "# Compiling the CNN\n",
        "classifier.compile(optimizer = 'adam', loss = 'binary_crossentropy', metrics = ['accuracy'])"
      ],
      "execution_count": 9,
      "outputs": [
        {
          "output_type": "stream",
          "text": [
            "/usr/local/lib/python3.6/dist-packages/ipykernel_launcher.py:4: UserWarning: Update your `Conv2D` call to the Keras 2 API: `Conv2D(32, (3, 3), input_shape=(64, 64, 3..., activation=\"relu\")`\n",
            "  after removing the cwd from sys.path.\n",
            "/usr/local/lib/python3.6/dist-packages/ipykernel_launcher.py:10: UserWarning: Update your `Conv2D` call to the Keras 2 API: `Conv2D(32, (3, 3), activation=\"relu\")`\n",
            "  # Remove the CWD from sys.path while we load stuff.\n",
            "/usr/local/lib/python3.6/dist-packages/ipykernel_launcher.py:17: UserWarning: Update your `Dense` call to the Keras 2 API: `Dense(activation=\"relu\", units=128)`\n",
            "/usr/local/lib/python3.6/dist-packages/ipykernel_launcher.py:18: UserWarning: Update your `Dense` call to the Keras 2 API: `Dense(activation=\"sigmoid\", units=1)`\n"
          ],
          "name": "stderr"
        }
      ]
    },
    {
      "cell_type": "code",
      "metadata": {
        "id": "YWhDywAwGD0i",
        "colab_type": "code",
        "colab": {
          "base_uri": "https://localhost:8080/",
          "height": 50
        },
        "outputId": "bf97e0e3-bee3-404a-8b4e-116ed30ee18b"
      },
      "source": [
        "from keras.preprocessing.image import ImageDataGenerator\n",
        "\n",
        "train_datagen = ImageDataGenerator(rescale = 1./255,\n",
        "                                   shear_range = 0.2,\n",
        "                                   zoom_range = 0.2,\n",
        "                                   horizontal_flip = True)\n",
        "\n",
        "test_datagen = ImageDataGenerator(rescale = 1./255)\n",
        "\n",
        "training_set = train_datagen.flow_from_directory('/content/drive/My Drive/Assignment-1/car truck/train',\n",
        "                                                 target_size = (64, 64),\n",
        "                                                 batch_size = 5,\n",
        "                                                 class_mode = 'binary')\n",
        "\n",
        "test_set = test_datagen.flow_from_directory('/content/drive/My Drive/Assignment-1/car truck/validation',\n",
        "                                            target_size = (64, 64),\n",
        "                                            batch_size = 5,\n",
        "                                            class_mode = 'binary')\n"
      ],
      "execution_count": 10,
      "outputs": [
        {
          "output_type": "stream",
          "text": [
            "Found 70 images belonging to 2 classes.\n",
            "Found 30 images belonging to 2 classes.\n"
          ],
          "name": "stdout"
        }
      ]
    },
    {
      "cell_type": "code",
      "metadata": {
        "id": "5II6W7gxIBIR",
        "colab_type": "code",
        "colab": {
          "base_uri": "https://localhost:8080/",
          "height": 1000
        },
        "outputId": "22fa4f62-dd26-4ddb-f05b-690556337bd3"
      },
      "source": [
        "history = classifier.fit_generator(training_set,\n",
        "                         samples_per_epoch = 128,\n",
        "                         nb_epoch =50 ,\n",
        "                         validation_data = test_set,\n",
        "                         nb_val_samples = 59)"
      ],
      "execution_count": 11,
      "outputs": [
        {
          "output_type": "stream",
          "text": [
            "/usr/local/lib/python3.6/dist-packages/ipykernel_launcher.py:5: UserWarning: The semantics of the Keras 2 argument `steps_per_epoch` is not the same as the Keras 1 argument `samples_per_epoch`. `steps_per_epoch` is the number of batches to draw from the generator at each epoch. Basically steps_per_epoch = samples_per_epoch/batch_size. Similarly `nb_val_samples`->`validation_steps` and `val_samples`->`steps` arguments have changed. Update your method calls accordingly.\n",
            "  \"\"\"\n",
            "/usr/local/lib/python3.6/dist-packages/ipykernel_launcher.py:5: UserWarning: Update your `fit_generator` call to the Keras 2 API: `fit_generator(<keras.pre..., validation_data=<keras.pre..., steps_per_epoch=25, epochs=50, validation_steps=59)`\n",
            "  \"\"\"\n"
          ],
          "name": "stderr"
        },
        {
          "output_type": "stream",
          "text": [
            "Epoch 1/50\n",
            "25/25 [==============================] - 82s 3s/step - loss: 0.7094 - accuracy: 0.6080 - val_loss: 0.7024 - val_accuracy: 0.6949\n",
            "Epoch 2/50\n",
            "25/25 [==============================] - 9s 379ms/step - loss: 0.5907 - accuracy: 0.7200 - val_loss: 0.1704 - val_accuracy: 0.6542\n",
            "Epoch 3/50\n",
            "25/25 [==============================] - 10s 384ms/step - loss: 0.4448 - accuracy: 0.8000 - val_loss: 0.4508 - val_accuracy: 0.8949\n",
            "Epoch 4/50\n",
            "25/25 [==============================] - 9s 367ms/step - loss: 0.3444 - accuracy: 0.8560 - val_loss: 0.3013 - val_accuracy: 0.9356\n",
            "Epoch 5/50\n",
            "25/25 [==============================] - 9s 352ms/step - loss: 0.2747 - accuracy: 0.8800 - val_loss: 0.3916 - val_accuracy: 0.8305\n",
            "Epoch 6/50\n",
            "25/25 [==============================] - 9s 373ms/step - loss: 0.1991 - accuracy: 0.9280 - val_loss: 0.0893 - val_accuracy: 0.8983\n",
            "Epoch 7/50\n",
            "25/25 [==============================] - 10s 385ms/step - loss: 0.1927 - accuracy: 0.9360 - val_loss: 0.1056 - val_accuracy: 0.8034\n",
            "Epoch 8/50\n",
            "25/25 [==============================] - 10s 389ms/step - loss: 0.2062 - accuracy: 0.9040 - val_loss: 0.5324 - val_accuracy: 0.8271\n",
            "Epoch 9/50\n",
            "25/25 [==============================] - 9s 363ms/step - loss: 0.1137 - accuracy: 0.9600 - val_loss: 0.6017 - val_accuracy: 0.8983\n",
            "Epoch 10/50\n",
            "25/25 [==============================] - 9s 351ms/step - loss: 0.1154 - accuracy: 0.9440 - val_loss: 0.2363 - val_accuracy: 0.9051\n",
            "Epoch 11/50\n",
            "25/25 [==============================] - 10s 381ms/step - loss: 0.0670 - accuracy: 0.9760 - val_loss: 0.0314 - val_accuracy: 0.6407\n",
            "Epoch 12/50\n",
            "25/25 [==============================] - 9s 371ms/step - loss: 0.0681 - accuracy: 0.9760 - val_loss: 1.1361 - val_accuracy: 0.9017\n",
            "Epoch 13/50\n",
            "25/25 [==============================] - 9s 372ms/step - loss: 0.0619 - accuracy: 0.9760 - val_loss: 0.9475 - val_accuracy: 0.7017\n",
            "Epoch 14/50\n",
            "25/25 [==============================] - 9s 378ms/step - loss: 0.0699 - accuracy: 0.9760 - val_loss: 1.7966 - val_accuracy: 0.9322\n",
            "Epoch 15/50\n",
            "25/25 [==============================] - 9s 348ms/step - loss: 0.0343 - accuracy: 1.0000 - val_loss: 0.1812 - val_accuracy: 0.9051\n",
            "Epoch 16/50\n",
            "25/25 [==============================] - 9s 375ms/step - loss: 0.0215 - accuracy: 1.0000 - val_loss: 0.0302 - val_accuracy: 0.9017\n",
            "Epoch 17/50\n",
            "25/25 [==============================] - 9s 374ms/step - loss: 0.0431 - accuracy: 0.9840 - val_loss: 0.0213 - val_accuracy: 0.9322\n",
            "Epoch 18/50\n",
            "25/25 [==============================] - 9s 364ms/step - loss: 0.0304 - accuracy: 0.9920 - val_loss: 0.3193 - val_accuracy: 0.9322\n",
            "Epoch 19/50\n",
            "25/25 [==============================] - 9s 344ms/step - loss: 0.0180 - accuracy: 1.0000 - val_loss: 0.0469 - val_accuracy: 0.8983\n",
            "Epoch 20/50\n",
            "25/25 [==============================] - 10s 386ms/step - loss: 0.0564 - accuracy: 0.9680 - val_loss: 9.7692e-04 - val_accuracy: 0.9051\n",
            "Epoch 21/50\n",
            "25/25 [==============================] - 10s 382ms/step - loss: 0.0538 - accuracy: 0.9840 - val_loss: 2.0850 - val_accuracy: 0.7525\n",
            "Epoch 22/50\n",
            "25/25 [==============================] - 10s 382ms/step - loss: 0.0200 - accuracy: 1.0000 - val_loss: 0.0915 - val_accuracy: 0.8712\n",
            "Epoch 23/50\n",
            "25/25 [==============================] - 9s 364ms/step - loss: 0.0655 - accuracy: 0.9600 - val_loss: 0.7177 - val_accuracy: 0.7966\n",
            "Epoch 24/50\n",
            "25/25 [==============================] - 9s 342ms/step - loss: 0.0279 - accuracy: 1.0000 - val_loss: 0.0015 - val_accuracy: 0.8678\n",
            "Epoch 25/50\n",
            "25/25 [==============================] - 9s 375ms/step - loss: 0.0087 - accuracy: 1.0000 - val_loss: 0.1056 - val_accuracy: 0.9661\n",
            "Epoch 26/50\n",
            "25/25 [==============================] - 10s 385ms/step - loss: 0.0336 - accuracy: 0.9920 - val_loss: 2.4672 - val_accuracy: 0.8949\n",
            "Epoch 27/50\n",
            "25/25 [==============================] - 10s 381ms/step - loss: 0.1447 - accuracy: 0.9600 - val_loss: 0.0025 - val_accuracy: 0.8068\n",
            "Epoch 28/50\n",
            "25/25 [==============================] - 9s 370ms/step - loss: 0.0251 - accuracy: 1.0000 - val_loss: 0.0509 - val_accuracy: 0.8034\n",
            "Epoch 29/50\n",
            "25/25 [==============================] - 9s 347ms/step - loss: 0.0317 - accuracy: 0.9840 - val_loss: 0.3498 - val_accuracy: 0.7288\n",
            "Epoch 30/50\n",
            "25/25 [==============================] - 9s 369ms/step - loss: 0.1105 - accuracy: 0.9520 - val_loss: 0.3079 - val_accuracy: 0.8644\n",
            "Epoch 31/50\n",
            "25/25 [==============================] - 9s 362ms/step - loss: 0.0203 - accuracy: 1.0000 - val_loss: 2.6817e-04 - val_accuracy: 0.8000\n",
            "Epoch 32/50\n",
            "25/25 [==============================] - 9s 378ms/step - loss: 0.0130 - accuracy: 0.9920 - val_loss: 0.0073 - val_accuracy: 0.8983\n",
            "Epoch 33/50\n",
            "25/25 [==============================] - 9s 346ms/step - loss: 0.0033 - accuracy: 1.0000 - val_loss: 0.0017 - val_accuracy: 0.8678\n",
            "Epoch 34/50\n",
            "25/25 [==============================] - 10s 389ms/step - loss: 0.0132 - accuracy: 1.0000 - val_loss: 0.0321 - val_accuracy: 0.8678\n",
            "Epoch 35/50\n",
            "25/25 [==============================] - 9s 379ms/step - loss: 0.0091 - accuracy: 1.0000 - val_loss: 0.0023 - val_accuracy: 0.8983\n",
            "Epoch 36/50\n",
            "25/25 [==============================] - 9s 373ms/step - loss: 0.0219 - accuracy: 0.9920 - val_loss: 0.5277 - val_accuracy: 0.8983\n",
            "Epoch 37/50\n",
            "25/25 [==============================] - 9s 364ms/step - loss: 0.0029 - accuracy: 1.0000 - val_loss: 0.3387 - val_accuracy: 0.8373\n",
            "Epoch 38/50\n",
            "25/25 [==============================] - 9s 350ms/step - loss: 0.0012 - accuracy: 1.0000 - val_loss: 0.0570 - val_accuracy: 0.8644\n",
            "Epoch 39/50\n",
            "25/25 [==============================] - 10s 389ms/step - loss: 8.3572e-04 - accuracy: 1.0000 - val_loss: 0.0777 - val_accuracy: 0.8644\n",
            "Epoch 40/50\n",
            "25/25 [==============================] - 9s 374ms/step - loss: 4.1031e-04 - accuracy: 1.0000 - val_loss: 0.0565 - val_accuracy: 0.8373\n",
            "Epoch 41/50\n",
            "25/25 [==============================] - 9s 375ms/step - loss: 9.1156e-04 - accuracy: 1.0000 - val_loss: 0.3764 - val_accuracy: 0.8271\n",
            "Epoch 42/50\n",
            "25/25 [==============================] - 9s 362ms/step - loss: 0.0011 - accuracy: 1.0000 - val_loss: 1.0193 - val_accuracy: 0.8678\n",
            "Epoch 43/50\n",
            "25/25 [==============================] - 9s 341ms/step - loss: 0.0012 - accuracy: 1.0000 - val_loss: 0.6594 - val_accuracy: 0.8644\n",
            "Epoch 44/50\n",
            "25/25 [==============================] - 10s 387ms/step - loss: 0.0028 - accuracy: 1.0000 - val_loss: 0.0180 - val_accuracy: 0.8678\n",
            "Epoch 45/50\n",
            "25/25 [==============================] - 9s 380ms/step - loss: 0.0489 - accuracy: 0.9760 - val_loss: 1.0921 - val_accuracy: 0.7322\n",
            "Epoch 46/50\n",
            "25/25 [==============================] - 9s 373ms/step - loss: 0.0188 - accuracy: 1.0000 - val_loss: 1.5047 - val_accuracy: 0.7051\n",
            "Epoch 47/50\n",
            "25/25 [==============================] - 9s 348ms/step - loss: 0.0084 - accuracy: 1.0000 - val_loss: 0.4006 - val_accuracy: 0.8678\n",
            "Epoch 48/50\n",
            "25/25 [==============================] - 10s 385ms/step - loss: 0.0063 - accuracy: 1.0000 - val_loss: 0.0492 - val_accuracy: 0.8339\n",
            "Epoch 49/50\n",
            "25/25 [==============================] - 9s 372ms/step - loss: 8.7082e-04 - accuracy: 1.0000 - val_loss: 1.3832 - val_accuracy: 0.8305\n",
            "Epoch 50/50\n",
            "25/25 [==============================] - 10s 381ms/step - loss: 0.0012 - accuracy: 1.0000 - val_loss: 2.1158 - val_accuracy: 0.8373\n"
          ],
          "name": "stdout"
        }
      ]
    },
    {
      "cell_type": "code",
      "metadata": {
        "id": "cSv9VdGBIoxa",
        "colab_type": "code",
        "colab": {
          "base_uri": "https://localhost:8080/",
          "height": 312
        },
        "outputId": "a4282547-3864-4f80-f2a3-7b6bdf104896"
      },
      "source": [
        "import matplotlib.pyplot as plt\n",
        "fig = plt.figure()\n",
        "plt.plot(history.history['val_loss'])\n",
        "plt.legend(['validation'], loc='upper left')\n",
        "plt.title('validation loss vs epoch')\n",
        "plt.ylabel('validation loss')\n",
        "plt.xlabel('Epoch')"
      ],
      "execution_count": 12,
      "outputs": [
        {
          "output_type": "execute_result",
          "data": {
            "text/plain": [
              "Text(0.5, 0, 'Epoch')"
            ]
          },
          "metadata": {
            "tags": []
          },
          "execution_count": 12
        },
        {
          "output_type": "display_data",
          "data": {
            "image/png": "[encoded data removed]",
            "text/plain": [
              "<Figure size 432x288 with 1 Axes>"
            ]
          },
          "metadata": {
            "tags": [],
            "needs_background": "light"
          }
        }
      ]
    },
    {
      "cell_type": "code",
      "metadata": {
        "id": "cE7L6S2aXjxs",
        "colab_type": "code",
        "colab": {}
      },
      "source": [
        ""
      ],
      "execution_count": null,
      "outputs": []
    }
  ]
}